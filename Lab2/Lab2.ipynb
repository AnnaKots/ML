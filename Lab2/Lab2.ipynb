{
 "cells": [
  {
   "cell_type": "markdown",
   "metadata": {},
   "source": [
    "Считывание 1000 вакансий с hh.ru"
   ]
  },
  {
   "cell_type": "code",
   "execution_count": 21,
   "metadata": {},
   "outputs": [],
   "source": [
    "#coding: utf-8\n",
    "import requests\n",
    "import matplotlib.pyplot as plt\n",
    "import numpy as np\n",
    "\n",
    "arr1=[]\n",
    "for i in range(10):\n",
    "    adri='https://api.hh.ru/vacancies?per_page=100&page='+str(i)+'&text=machine+learning+OR+data+science+OR+data+analytics'\n",
    "    req=requests.get(adri)\n",
    "    arr1+=(req.json()['items'])"
   ]
  },
  {
   "cell_type": "markdown",
   "metadata": {},
   "source": [
    "Обработка данных. Вакансии лежат в массиве из 10 словарей. "
   ]
  },
  {
   "cell_type": "code",
   "execution_count": 22,
   "metadata": {},
   "outputs": [],
   "source": [
    "slovo={}\n",
    "\n",
    "#получаем slovo \"профессия: зарплата\" \n",
    "for i in arr1:    #i-тнутый элемент массива, являющийся словарем\n",
    "    if ((i['salary']!=None) and (i['salary']['currency']=='RUR')):\n",
    "        if (i['salary']['from']==None):\n",
    "            slovo[i['name']]=i['salary']['to']/2\n",
    "        elif (i['salary']['to']==None):\n",
    "            slovo[i['name']]=i['salary']['from']\n",
    "        elif((i['salary']['to']!=None) and (i['salary']['from']!=None)):\n",
    "            slovo[i['name']]=(i['salary']['from']+i['salary']['to'])/2\n",
    "    if ((i['salary']!=None) and (i['salary']['currency']=='USD')):\n",
    "        if (i['salary']['from']==None):\n",
    "            slovo[i['name']]=i['salary']['to']/2*57\n",
    "        elif (i['salary']['to']==None):\n",
    "            slovo[i['name']]=i['salary']['from']*57\n",
    "        elif((i['salary']['to']!=None) and (i['salary']['from']!=None)):\n",
    "            slovo[i['name']]=(i['salary']['from']+i['salary']['to'])/2*57\n",
    "    if ((i['salary']!=None) and (i['salary']['currency']=='EUR')):\n",
    "        if (i['salary']['from']==None):\n",
    "            slovo[i['name']]=i['salary']['to']/2*71\n",
    "        elif (i['salary']['to']==None):\n",
    "            slovo[i['name']]=i['salary']['from']*71\n",
    "        elif((i['salary']['to']!=None) and (i['salary']['from']!=None)):\n",
    "            slovo[i['name']]=(i['salary']['from']+i['salary']['to'])/2*71\n",
    "DS=[]\n",
    "ML=[]\n",
    "DA=[]\n",
    "Prog=[]\n",
    "Razr=[]\n",
    "\n",
    "for j in slovo: #ключи(j) - это названия вакансий\n",
    "    if (('achine' and 'earn') or('ашинному')) in j:\n",
    "        ML.append(slovo[j])\n",
    "    elif ('ata' and 'cien') in j:\n",
    "        DS.append(slovo[j])\n",
    "    elif (('nalyst' and 'ata') or('налитик' and 'анных')) in j:\n",
    "        DA.append(slovo[j])\n",
    "    elif ('рограмм') in j:\n",
    "        Prog.append(slovo[j])\n",
    "    elif ('разработ') in j:\n",
    "        Razr.append(slovo[j])\n",
    "     \n",
    "All=[]\n",
    "All.append(DS)\n",
    "All.append(ML)\n",
    "All.append(DA)\n",
    "All.append(Prog)\n",
    "All.append(Razr)\n",
    "#print(All)"
   ]
  },
  {
   "cell_type": "markdown",
   "metadata": {},
   "source": [
    "Получение медианных значений зарплат и построение графика с соответствующими вакансиями"
   ]
  },
  {
   "cell_type": "code",
   "execution_count": 23,
   "metadata": {},
   "outputs": [
    {
     "data": {
      "image/png": "[encoded data removed]",
      "text/plain": [
       "<Figure size 432x288 with 1 Axes>"
      ]
     },
     "metadata": {},
     "output_type": "display_data"
    }
   ],
   "source": [
    "medi=[]\n",
    "\n",
    "for i in All:\n",
    "    i.sort()\n",
    "    #print(i)    \n",
    "    if (len(i))%2==1:\n",
    "        lin1=len(i)//2+1\n",
    "        med=i[lin1]\n",
    "        medi.append(med)\n",
    "    else:\n",
    "        lin1=len(i)//2\n",
    "        lin2=len(i)//2+1\n",
    "        med=(i[lin1]+i[lin2])/2\n",
    "        medi.append(med)\n",
    "\n",
    "names=['ML', 'DS', 'DataAnalyst', 'Programmer', 'Developer']\n",
    "print('Медианные значения зарплат:\\n')\n",
    "for i in range(5):\n",
    "    print(names[i]+': '+str(medi[i]))\n",
    "print('\\n')\n",
    "#print(medi)\n",
    "#slovo\n",
    "\n",
    "xdata1 = [0, 1, 2, 3, 4]\n",
    "#fig, ax=plt.subplots()\n",
    "plt.title('Median salary values')\n",
    "plt.xlabel('Vacancies')\n",
    "plt.ylabel('Salary, RUR')\n",
    "#plt.figure()\n",
    "#color=['red','yellow','green', 'blue','purple']\n",
    "plt.bar(xdata1, medi, color='pink', edgecolor='black', label=names)\n",
    "plt.xticks(xdata1,names, rotation='horizontal')\n",
    "#plt.legend(names)\n",
    "plt.show()"
   ]
  },
  {
   "cell_type": "markdown",
   "metadata": {},
   "source": [
    "Получение распределения зарплат по диапазонам и построение графика"
   ]
  },
  {
   "cell_type": "code",
   "execution_count": 25,
   "metadata": {},
   "outputs": [
    {
     "data": {
      "image/png": "[encoded data removed]",
      "text/plain": [
       "<Figure size 432x288 with 1 Axes>"
      ]
     },
     "metadata": {},
     "output_type": "display_data"
    }
   ],
   "source": [
    "a=b=c=d=e=f=0\n",
    "for key in slovo:\n",
    "    if int(slovo[key])<80000:\n",
    "        a+=1\n",
    "    elif int(slovo[key])<120000:\n",
    "        b+=1\n",
    "    elif int(slovo[key])<150000:\n",
    "        c+=1\n",
    "    elif int(slovo[key])<200000:\n",
    "        d+=1\n",
    "    elif int(slovo[key])<300000:\n",
    "        e+=1\n",
    "    elif int(slovo[key])>=300000:\n",
    "        f+=1\n",
    "        \n",
    "        \n",
    "salr=['80k- ','80-120 ','120-150k ','150-200k ','200-300k ','300k+ ']\n",
    "numb=[a,b,c,d,e,f]\n",
    "\n",
    "print(u'Распределение вакансий по диапазонам зарплат:\\n')\n",
    "for i in range(6):\n",
    "    print(str(salr[i])+str(numb[i])+' вакансий')\n",
    "\n",
    "xdata2 = [0,1,2,3,4,5]\n",
    "plt.title(u'Медианные значения зарплат')\n",
    "plt.xlabel(u'Зарплата')\n",
    "plt.ylabel(u'Число вакансий')\n",
    "#plt.figure()\n",
    "#colors=['red','orange','yellow','green', 'blue','purple']\n",
    "plt.bar(xdata2, numb, color='purple', edgecolor='black')\n",
    "plt.xticks(xdata2,salr, rotation='horizontal')\n",
    "#plt.legend(salr)\n",
    "plt.show()"
   ]
  },
  {
   "cell_type": "code",
   "execution_count": null,
   "metadata": {},
   "outputs": [],
   "source": []
  }
 ],
 "metadata": {
  "kernelspec": {
   "display_name": "Python 2",
   "language": "python",
   "name": "python2"
  },
  "language_info": {
   "codemirror_mode": {
    "name": "ipython",
    "version": 2
   },
   "file_extension": ".py",
   "mimetype": "text/x-python",
   "name": "python",
   "nbconvert_exporter": "python",
   "pygments_lexer": "ipython2",
   "version": "2.7.15"
  }
 },
 "nbformat": 4,
 "nbformat_minor": 2
}
