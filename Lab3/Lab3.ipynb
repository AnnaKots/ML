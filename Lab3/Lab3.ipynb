{
 "cells": [
  {
   "cell_type": "markdown",
   "metadata": {
    "scrolled": true
   },
   "source": [
    "Задача предсказания стоимости дома в зависимости от характеристик дома"
   ]
  },
  {
   "cell_type": "code",
   "execution_count": 12,
   "metadata": {},
   "outputs": [
    {
     "data": {
      "text/plain": [
       "<matplotlib.collections.PathCollection at 0x16272e73748>"
      ]
     },
     "execution_count": 12,
     "metadata": {},
     "output_type": "execute_result"
    },
    {
     "data": {
      "image/png": "[encoded data removed]",
      "text/plain": [
       "<Figure size 576x360 with 1 Axes>"
      ]
     },
     "metadata": {},
     "output_type": "display_data"
    }
   ],
   "source": [
    "import pandas as pd #предоставляет широкий спектр функций по обработке табличных данных\n",
    "import numpy as np #содержит реализации многомерных массивов и алгоритмов линейной алгебры. \n",
    "import matplotlib.pyplot as plt\n",
    "from sklearn.linear_model import LinearRegression #sklearn реализует множество алгоритмов машинного обучения\n",
    "from sklearn.model_selection import train_test_split\n",
    "from sklearn.cross_validation import train_test_split\n",
    "from sklearn.metrics import mean_absolute_error,  r2_score\n",
    "from pandas.plotting import scatter_matrix\n",
    "from sklearn.decomposition import PCA\n",
    "from sys import stdout\n",
    "\n",
    "import math\n",
    "from scipy import stats\n",
    "\n",
    "plt.style.use('ggplot')\n",
    "%matplotlib inline     \n",
    "#для отображения графиков прямо в юпитере\n",
    "\n",
    "def rmsle(y_true, y_pred):\n",
    "   assert len(y_true) == len(y_pred)\n",
    "   return np.square(np.log(y_pred + 1) - np.log(y_true + 1)).mean() ** 0.5\n",
    "\n",
    "filename='C:/Users/kotsi/Downloads/train.csv'\n",
    "data = pd.read_csv(filename, na_values='nan')\n",
    "#print(data.info())\n",
    "plt.figure(figsize=(8,5))\n",
    "plt.scatter(data['GrLivArea'], data['SalePrice'])"
   ]
  },
  {
   "cell_type": "markdown",
   "metadata": {},
   "source": [
    "Преподготовка данных"
   ]
  },
  {
   "cell_type": "code",
   "execution_count": 13,
   "metadata": {},
   "outputs": [
    {
     "name": "stdout",
     "output_type": "stream",
     "text": [
      "(1460, 286)\n",
      "SalePrice           1.000000\n",
      "OverallQual         0.790982\n",
      "GrLivArea           0.708624\n",
      "GarageCars          0.640409\n",
      "GarageArea          0.623431\n",
      "TotalBsmtSF         0.613581\n",
      "1stFlrSF            0.605852\n",
      "ExterQual_TA        0.589044\n",
      "FullBath            0.560664\n",
      "BsmtQual_Ex         0.553105\n",
      "TotRmsAbvGrd        0.533723\n",
      "YearBuilt           0.522897\n",
      "KitchenQual_TA      0.519298\n",
      "GarageFinish_Unf    0.513906\n",
      "YearRemodAdd        0.507101\n",
      "Name: SalePrice, dtype: float64\n"
     ]
    }
   ],
   "source": [
    "categorical_columns = [c for c in data.columns if data[c].dtype.name == 'object']\n",
    "numerical_columns   = [c for c in data.columns if (data[c].dtype.name != 'object')]\n",
    "\n",
    "#количественные заполним медианным значением            \n",
    "data = data.fillna(data.median(axis=0), axis=0)\n",
    "data_describe = data.describe(include=[object])#присваеваем все, где тип object - т.е. категориальные\n",
    "#категориальные заменяем наиболее частым\n",
    "for c in categorical_columns:\n",
    "    data[c] = data[c].fillna(data_describe[c]['top'])#fillna -заполнение пустых\n",
    "\n",
    "#Векторизация(преобразование категориальных в количественные)\n",
    "#выделяем бинарные, заменяем на 0 и 1\n",
    "binary_columns    = [c for c in categorical_columns if data_describe[c]['unique'] == 2]\n",
    "nonbinary_columns = [c for c in categorical_columns if data_describe[c]['unique'] > 2]\n",
    "for c in binary_columns:\n",
    "    top = data_describe[c]['top']\n",
    "    top_items = data[c] == top\n",
    "    data.loc[top_items, c] = 0\n",
    "    data.loc[np.logical_not(top_items), c] = 1\n",
    "    \n",
    "#обработка небинарных\n",
    "#Заменяем признаки числом их признаков. \n",
    "data_nonbinary = pd.get_dummies(data[nonbinary_columns]) \n",
    "\n",
    "#нормализация - приведение всех числовых к диапазону [0,1]\n",
    "data_numerical=data[numerical_columns]\n",
    "data_numerical = (data_numerical - data_numerical.mean()) / data_numerical.std()\n",
    "#data_numerical.describe()\n",
    "data = pd.concat((data_numerical, data[binary_columns], data_nonbinary), axis=1)\n",
    "data = pd.DataFrame(data, dtype=float)\n",
    "print (data.shape)#стало 286 фич, а не 81\n",
    "\n",
    "#важные\n",
    "'''\n",
    "OverallQual             0.790982 - Общий материал и качество отделки\n",
    "GrLivArea               0.708624 - Выше (земля) жилая площадь квадратных футов.\n",
    "GarageCars              0.640409 - Размер гаража вместимость автомобиля\n",
    "TotalBsmtSF             0.613581 - Общая площадь квадратных футов.\n",
    "ExterQual_TA906                  - Качество материала снаружи.\n",
    "FullBath                0.560664 - Полные ванные комнаты выше класса.\n",
    "BsmtQual_Ex             0.553105 - Высота фундамента - Отлично (100+ дюймов)\n",
    "YearBuilt               0.522897 - Оригинальная дата строительства.\n",
    "KitchenQual_TA          0.519298 - Качество кухни - среднее\n",
    "GarageFinish_Unf        0.513906 - Внутренняя отделка гаража - незакончена\n",
    "'''\n",
    "print(data.corr()['SalePrice'].abs().sort_values(ascending=False).head(15))\n",
    "data=data[['SalePrice','OverallQual','GrLivArea','GarageCars','TotalBsmtSF','ExterQual_TA',\n",
    "           'FullBath','BsmtQual_Ex','YearBuilt','KitchenQual_TA','GarageFinish_Unf']]"
   ]
  },
  {
   "cell_type": "markdown",
   "metadata": {},
   "source": [
    "Разделение данных и обучение модели"
   ]
  },
  {
   "cell_type": "code",
   "execution_count": 14,
   "metadata": {},
   "outputs": [
    {
     "name": "stdout",
     "output_type": "stream",
     "text": [
      "Mean_Absolute_Error 0.272778682889739\n",
      "RMSE 0.5676126632946077\n"
     ]
    },
    {
     "name": "stderr",
     "output_type": "stream",
     "text": [
      "C:\\Program Files (x86)\\Microsoft Visual Studio\\Shared\\Anaconda3_64\\envs\\tensorflow35\\lib\\site-packages\\ipykernel_launcher.py:21: RuntimeWarning: invalid value encountered in log\n"
     ]
    }
   ],
   "source": [
    "X = data.drop('SalePrice', axis='columns') #матрица \"объекты-признаки\"\n",
    "y = data['SalePrice'] #вектор ответов\n",
    "X_train, X_test, y_train, y_test = train_test_split(X, y, test_size = 0.2, random_state = 11)\n",
    "\n",
    "lr=LinearRegression()\n",
    "lr.fit(X_train, y_train)\n",
    "prediction=lr.predict(X_test)\n",
    "print('Mean_Absolute_Error '+str(mean_absolute_error(y_test,prediction)))\n",
    "print(\"RMSE \"+str(rmsle(y_test,prediction)))\n",
    "pca=PCA(n_components=10)\n",
    "XPCAreduced=pca.fit_transform(X)"
   ]
  },
  {
   "cell_type": "markdown",
   "metadata": {},
   "source": [
    "Реализация линейной регрессии"
   ]
  },
  {
   "cell_type": "code",
   "execution_count": 15,
   "metadata": {},
   "outputs": [
    {
     "ename": "NameError",
     "evalue": "name 'nums' is not defined",
     "output_type": "error",
     "traceback": [
      "\u001b[1;31m---------------------------------------------------------------------------\u001b[0m",
      "\u001b[1;31mNameError\u001b[0m                                 Traceback (most recent call last)",
      "\u001b[1;32m<ipython-input-15-99be2d7b4499>\u001b[0m in \u001b[0;36m<module>\u001b[1;34m()\u001b[0m\n\u001b[0;32m     45\u001b[0m \u001b[0moutput\u001b[0m \u001b[1;33m=\u001b[0m \u001b[0my\u001b[0m\u001b[1;33m\u001b[0m\u001b[0m\n\u001b[0;32m     46\u001b[0m \u001b[1;32mfor\u001b[0m \u001b[0mi\u001b[0m \u001b[1;32min\u001b[0m \u001b[0mrange\u001b[0m\u001b[1;33m(\u001b[0m\u001b[1;36m10\u001b[0m\u001b[1;33m)\u001b[0m\u001b[1;33m:\u001b[0m\u001b[1;33m\u001b[0m\u001b[0m\n\u001b[1;32m---> 47\u001b[1;33m     \u001b[0mnums\u001b[0m\u001b[1;33m[\u001b[0m\u001b[0mi\u001b[0m\u001b[1;33m]\u001b[0m\u001b[1;33m=\u001b[0m\u001b[0mrandom\u001b[0m\u001b[1;33m.\u001b[0m\u001b[0muniform\u001b[0m\u001b[1;33m(\u001b[0m\u001b[1;36m0.00001\u001b[0m\u001b[1;33m,\u001b[0m \u001b[1;36m0.01\u001b[0m\u001b[1;33m)\u001b[0m\u001b[1;33m\u001b[0m\u001b[0m\n\u001b[0m\u001b[0;32m     48\u001b[0m \u001b[0minitial_weights\u001b[0m \u001b[1;33m=\u001b[0m \u001b[0mnp\u001b[0m\u001b[1;33m.\u001b[0m\u001b[0marray\u001b[0m\u001b[1;33m(\u001b[0m\u001b[0mnums\u001b[0m\u001b[1;33m)\u001b[0m\u001b[1;33m\u001b[0m\u001b[0m\n\u001b[0;32m     49\u001b[0m \u001b[0mstep_size\u001b[0m \u001b[1;33m=\u001b[0m \u001b[1;36m0.0001\u001b[0m\u001b[1;33m\u001b[0m\u001b[0m\n",
      "\u001b[1;31mNameError\u001b[0m: name 'nums' is not defined"
     ]
    }
   ],
   "source": [
    "import random\n",
    "\n",
    "def predict_outcome(feature_matrix, weights): \n",
    "    weights=np.array(weights) \n",
    "    predictions = np.dot(feature_matrix, weights) \n",
    "    return predictions \n",
    "\n",
    "def errors(output,predictions): \n",
    "    errors=predictions-output \n",
    "    return errors \n",
    "\n",
    "def feature_derivative(errors, feature): \n",
    "    derivative=np.dot(2,np.dot(feature,errors)) \n",
    "    return derivative \n",
    "\n",
    "\n",
    "def regression_gradient_descent(feature_matrix, output, initial_weights, step_size, tolerance): \n",
    "    converged = False \n",
    "#Начальные веса преобразуются в массив numpy \n",
    "    weights = np.array(initial_weights) \n",
    "    while not converged: \n",
    "# вычислить прогнозы на основе feature_matrix и весов: \n",
    "        predictions=predict_outcome(feature_matrix,weights) \n",
    "# вычислять ошибки как predictions - output: \n",
    "        error=errors(output,predictions) \n",
    "        gradient_sum_squares = 0 # инициализирование градиента \n",
    "# пока не сходится, обновлять каждый вес отдельно: \n",
    "        for i in range(len(weights)): \n",
    "# Вызов feature_matrix[:, i] если столбец фич связан с весами[i] \n",
    "            feature=feature_matrix[:, i] \n",
    "            deriv=feature_derivative(error,feature) \n",
    "# добавить квадратную производную к величине градиента \n",
    "            gradient_sum_squares=gradient_sum_squares+(deriv**2) \n",
    "# обновить вес на основе размера шага и производной: \n",
    "            weights[i]=weights[i] - np.dot(step_size,deriv) \n",
    "\n",
    "        gradient_magnitude = math.sqrt(gradient_sum_squares) \n",
    "#stdout.write(\"\\r%d\" % int(gradient_magnitude)) \n",
    "        stdout.flush() \n",
    "        if gradient_magnitude < tolerance: \n",
    "            converged = True \n",
    "    return(weights) \n",
    "\n",
    "simple_feature_matrix = XPCAreduced \n",
    "output = y \n",
    "for i in range(10):\n",
    "    nums[i]=random.uniform(0.00001, 0.01)\n",
    "initial_weights = np.array(nums) \n",
    "step_size = 0.0001 \n",
    "tolerance = 2.5e2 \n",
    "simple_weights = regression_gradient_descent(simple_feature_matrix, output, initial_weights, step_size, tolerance) \n",
    "\n",
    "hand_y_train_predict = np.dot(X_train, simple_weights) \n",
    "hand_y_test_predict = np.dot(X_test, simple_weights) \n",
    "\n",
    "print(\"By hands\") \n",
    "print(\"Mean_Absolute_Error: \"+str(mean_absolute_error(y_test, hand_y_test_predict))) \n",
    "print(\"RMSE: \"+str(rmsle(y_test, hand_y_test_predict)))"
   ]
  },
  {
   "cell_type": "code",
   "execution_count": null,
   "metadata": {
    "collapsed": true
   },
   "outputs": [],
   "source": []
  }
 ],
 "metadata": {
  "kernelspec": {
   "display_name": "Python 3",
   "language": "python",
   "name": "python3"
  },
  "language_info": {
   "codemirror_mode": {
    "name": "ipython",
    "version": 3
   },
   "file_extension": ".py",
   "mimetype": "text/x-python",
   "name": "python",
   "nbconvert_exporter": "python",
   "pygments_lexer": "ipython3",
   "version": "3.5.5"
  }
 },
 "nbformat": 4,
 "nbformat_minor": 2
}
